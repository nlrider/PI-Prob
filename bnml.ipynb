{
 "cells": [
  {
   "cell_type": "code",
   "execution_count": 1,
   "metadata": {},
   "outputs": [],
   "source": [
    "#read in data\n",
    "import pandas as pd\n",
    "data = pd.read_csv('/Users/nicksbox/Documents/Data/BN/bnmldata.csv')"
   ]
  },
  {
   "cell_type": "code",
   "execution_count": 3,
   "metadata": {},
   "outputs": [
    {
     "data": {
      "text/plain": [
       "(244857, 8)"
      ]
     },
     "execution_count": 3,
     "metadata": {},
     "output_type": "execute_result"
    }
   ],
   "source": [
    "data.shape"
   ]
  },
  {
   "cell_type": "markdown",
   "metadata": {},
   "source": [
    "### __ML Train & Test__"
   ]
  },
  {
   "cell_type": "code",
   "execution_count": 4,
   "metadata": {},
   "outputs": [],
   "source": [
    "#label target\n",
    "cols =[col for col in data.columns if col not in ['Label']]\n",
    "mldata = data[cols]\n",
    "target = data['Label']"
   ]
  },
  {
   "cell_type": "code",
   "execution_count": 11,
   "metadata": {},
   "outputs": [],
   "source": [
    "from sklearn.preprocessing import StandardScaler\n",
    "from sklearn.pipeline import make_pipeline\n",
    "from sklearn.model_selection import train_test_split\n",
    "from sklearn.metrics import accuracy_score\n",
    "from sklearn.metrics import recall_score\n",
    "from sklearn.metrics import f1_score\n",
    "from sklearn.metrics import roc_auc_score\n",
    "from sklearn.metrics import roc_curve, auc\n",
    "from sklearn.metrics import average_precision_score\n",
    "import matplotlib.pyplot as plt\n",
    "import joblib\n",
    "from joblib import dump, load"
   ]
  },
  {
   "cell_type": "code",
   "execution_count": 6,
   "metadata": {},
   "outputs": [],
   "source": [
    "#train test split\n",
    "X = mldata\n",
    "y = target\n",
    "X_train, X_test, y_train, y_test = train_test_split(X,y, test_size=0.3, random_state=0)"
   ]
  },
  {
   "cell_type": "markdown",
   "metadata": {},
   "source": [
    "### __SVM Classifier__"
   ]
  },
  {
   "cell_type": "code",
   "execution_count": null,
   "metadata": {},
   "outputs": [],
   "source": [
    "#SVM\n",
    "from sklearn import svm\n",
    "clf = svm.SVC()\n",
    "y_pred = clf.fit(X_train,y_train).predict(X_test)"
   ]
  },
  {
   "cell_type": "code",
   "execution_count": 23,
   "metadata": {},
   "outputs": [
    {
     "name": "stdout",
     "output_type": "stream",
     "text": [
      "Accuracy Score: 0.7327588554003648\n",
      "Precision: 0.7327588554003648\n",
      "Recall: 1.0\n",
      "F1 Score: 0.8457713006245826\n",
      "AUROC: 0.5\n"
     ]
    }
   ],
   "source": [
    "#model performance\n",
    "accuracy_score = accuracy_score(y_test, y_pred)\n",
    "print(\"Accuracy Score:\", accuracy_score)\n",
    "average_precision = average_precision_score(y_test, y_pred)\n",
    "print(\"Precision:\", average_precision)\n",
    "recall = recall_score(y_test, y_pred)\n",
    "print(\"Recall:\", recall)\n",
    "f1 = f1_score(y_test, y_pred)\n",
    "print(\"F1 Score:\", f1)\n",
    "AUROC = roc_auc_score(y_test, y_pred)\n",
    "print(\"AUROC:\", AUROC)"
   ]
  },
  {
   "cell_type": "code",
   "execution_count": 18,
   "metadata": {},
   "outputs": [
    {
     "data": {
      "text/plain": [
       "['bn_svm.sav']"
      ]
     },
     "execution_count": 18,
     "metadata": {},
     "output_type": "execute_result"
    }
   ],
   "source": [
    "#serialize SVM\n",
    "import joblib\n",
    "from joblib import dump, load\n",
    "bn_pisvm = 'bn_svm.sav'\n",
    "joblib.dump(clf, bn_pisvm)"
   ]
  },
  {
   "cell_type": "markdown",
   "metadata": {},
   "source": [
    "### __Naive Bayes Classifier__"
   ]
  },
  {
   "cell_type": "code",
   "execution_count": 7,
   "metadata": {},
   "outputs": [],
   "source": [
    "from sklearn.naive_bayes import GaussianNB\n",
    "gnb = GaussianNB()\n",
    "y_pred = gnb.fit(X_train,y_train).predict(X_test)"
   ]
  },
  {
   "cell_type": "code",
   "execution_count": 8,
   "metadata": {},
   "outputs": [
    {
     "name": "stdout",
     "output_type": "stream",
     "text": [
      "Precision: 0.7579879740329235\n",
      "Recall: 1.0\n",
      "F1 Score: 0.8623357898109579\n",
      "AUROC: 0.562273954459783\n"
     ]
    }
   ],
   "source": [
    "#model performance\n",
    "#accuracy_score = accuracy_score(y_test, y_pred)\n",
    "#print(\"Accuracy Score:\", accuracy_score)\n",
    "average_precision = average_precision_score(y_test, y_pred)\n",
    "print(\"Precision:\", average_precision)\n",
    "recall = recall_score(y_test, y_pred)\n",
    "print(\"Recall:\", recall)\n",
    "f1 = f1_score(y_test, y_pred)\n",
    "print(\"F1 Score:\", f1)\n",
    "AUROC = roc_auc_score(y_test, y_pred)\n",
    "print(\"AUROC:\", AUROC)"
   ]
  },
  {
   "cell_type": "code",
   "execution_count": 12,
   "metadata": {},
   "outputs": [
    {
     "data": {
      "text/plain": [
       "['bn_nbc.sav']"
      ]
     },
     "execution_count": 12,
     "metadata": {},
     "output_type": "execute_result"
    }
   ],
   "source": [
    "#serialize NBC\n",
    "from joblib import dump, load\n",
    "bn_pinbc = 'bn_nbc.sav'\n",
    "joblib.dump(gnb, bn_pinbc)"
   ]
  },
  {
   "cell_type": "markdown",
   "metadata": {},
   "source": [
    "### __Logistic Regression Classifier__"
   ]
  },
  {
   "cell_type": "code",
   "execution_count": 15,
   "metadata": {},
   "outputs": [],
   "source": [
    "from sklearn.linear_model import LogisticRegression\n",
    "lrclf = LogisticRegression(random_state=0)\n",
    "y_pred = lrclf.fit(X_train,y_train).predict(X_test)"
   ]
  },
  {
   "cell_type": "code",
   "execution_count": 16,
   "metadata": {},
   "outputs": [
    {
     "name": "stdout",
     "output_type": "stream",
     "text": [
      "Precision: 0.9508874691452125\n",
      "Recall: 0.8603117394616084\n",
      "F1 Score: 0.9190101014110222\n",
      "AUROC: 0.9137787111550821\n"
     ]
    }
   ],
   "source": [
    "#model performance\n",
    "#accuracy_score = accuracy_score(y_test, y_pred)\n",
    "#print(\"Accuracy Score:\", accuracy_score)\n",
    "average_precision = average_precision_score(y_test, y_pred)\n",
    "print(\"Precision:\", average_precision)\n",
    "recall = recall_score(y_test, y_pred)\n",
    "print(\"Recall:\", recall)\n",
    "f1 = f1_score(y_test, y_pred)\n",
    "print(\"F1 Score:\", f1)\n",
    "AUROC = roc_auc_score(y_test, y_pred)\n",
    "print(\"AUROC:\", AUROC)"
   ]
  },
  {
   "cell_type": "code",
   "execution_count": 17,
   "metadata": {},
   "outputs": [
    {
     "data": {
      "text/plain": [
       "['bn_logreg.sav']"
      ]
     },
     "execution_count": 17,
     "metadata": {},
     "output_type": "execute_result"
    }
   ],
   "source": [
    "#serialize LogReg\n",
    "from joblib import dump, load\n",
    "bn_pilogreg = 'bn_logreg.sav'\n",
    "joblib.dump(lrclf, bn_pilogreg)"
   ]
  },
  {
   "cell_type": "code",
   "execution_count": null,
   "metadata": {},
   "outputs": [],
   "source": []
  }
 ],
 "metadata": {
  "kernelspec": {
   "display_name": "Python 3",
   "language": "python",
   "name": "python3"
  },
  "language_info": {
   "codemirror_mode": {
    "name": "ipython",
    "version": 3
   },
   "file_extension": ".py",
   "mimetype": "text/x-python",
   "name": "python",
   "nbconvert_exporter": "python",
   "pygments_lexer": "ipython3",
   "version": "3.8.3"
  }
 },
 "nbformat": 4,
 "nbformat_minor": 4
}
